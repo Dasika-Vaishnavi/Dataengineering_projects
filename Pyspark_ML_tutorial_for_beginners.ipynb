{
  "cells": [
    {
      "source": [
        "# IMPORTANT: RUN THIS CELL IN ORDER TO IMPORT YOUR KAGGLE DATA SOURCES,\n",
        "# THEN FEEL FREE TO DELETE THIS CELL.\n",
        "# NOTE: THIS NOTEBOOK ENVIRONMENT DIFFERS FROM KAGGLE'S PYTHON\n",
        "# ENVIRONMENT SO THERE MAY BE MISSING LIBRARIES USED BY YOUR\n",
        "# NOTEBOOK.\n",
        "import kagglehub\n",
        "fatmakursun_hausing_data_path = kagglehub.dataset_download('fatmakursun/hausing-data')\n",
        "\n",
        "print('Data source import complete.')\n"
      ],
      "metadata": {
        "id": "qt1NJmtPbzL3",
        "outputId": "49022f65-2b9f-4da5-9e7d-cebdd0db6f4a",
        "colab": {
          "base_uri": "https://localhost:8080/"
        }
      },
      "cell_type": "code",
      "outputs": [
        {
          "output_type": "stream",
          "name": "stdout",
          "text": [
            "Data source import complete.\n"
          ]
        }
      ],
      "execution_count": 2
    },
    {
      "metadata": {
        "id": "FJF7NejNbzL4"
      },
      "cell_type": "markdown",
      "source": [
        "# Predicting House Prices with Apache Spark\n",
        "\n",
        "## LINEAR REGRESSION\n",
        "\n",
        "In this we'll make use of the [California Housing](http://www.dcc.fc.up.pt/~ltorgo/Regression/cal_housing.html) data set. Note, of course, that this is actually 'small' data and that using Spark in this context might be overkill; This notebook is for educational purposes only and is meant to give us an idea of how we can use PySpark to build a machine learning model."
      ]
    },
    {
      "metadata": {
        "id": "hdcSbhyxbzL5"
      },
      "cell_type": "markdown",
      "source": [
        "## 1. Understanding the Data Set\n",
        "\n",
        "The California Housing data set appeared in a 1997 paper titled *Sparse Spatial Autoregressions*, written by Pace, R. Kelley and Ronald Barry and published in the Statistics and Probability Letters journal. The researchers built this data set by using the 1990 California census data.\n",
        "\n",
        "The data contains one row per census block group. A block group is the smallest geographical unit for which the U.S. Census Bureau publishes sample data (a block group typically has a population of 600 to 3,000 people). In this sample a block group on average includes 1425.5 individuals living in a geographically compact area.\n",
        "\n",
        "These spatial data contain 20,640 observations on housing prices with 9 economic variables:\n",
        "\n",
        "<p style=\"text-align: justify;\"></p>\n",
        "<pre><strong>Longitude:</strong>refers to the angular distance of a geographic place north or south of the earth’s equator for each block group\n",
        "<strong>Latitude :</strong>refers to the angular distance of a geographic place east or west of the earth’s equator for each block group\n",
        "<strong>Housing Median Age:</strong>is the median age of the people that belong to a block group. Note that the median is the value that lies at the midpoint of a frequency distribution of observed values\n",
        "<strong>Total Rooms:</strong>is the total number of rooms in the houses per block group\n",
        "<strong>Total Bedrooms:</strong>is the total number of bedrooms in the houses per block group\n",
        "<strong>Population:</strong>is the number of inhabitants of a block group\n",
        "<strong>Households:</strong>refers to units of houses and their occupants per block group\n",
        "<strong>Median Income:</strong>is used to register the median income of people that belong to a block group\n",
        "<strong>Median House Value:</strong>is the dependent variable and refers to the median house value per block group\n",
        "</pre>\n",
        "\n",
        "What's more, we also learn that all the block groups have zero entries for the independent and dependent variables have been excluded from the data.\n",
        "\n",
        "The Median house value is the dependent variable and will be assigned the role of the target variable in our ML model.\n"
      ]
    },
    {
      "metadata": {
        "trusted": true,
        "id": "gP3oijZGbzL5",
        "outputId": "23b47518-ae98-460b-a548-fc036030882d",
        "colab": {
          "base_uri": "https://localhost:8080/"
        }
      },
      "cell_type": "code",
      "source": [
        "!pip install pyspark"
      ],
      "execution_count": 3,
      "outputs": [
        {
          "output_type": "stream",
          "name": "stdout",
          "text": [
            "Requirement already satisfied: pyspark in /usr/local/lib/python3.11/dist-packages (3.5.1)\n",
            "Requirement already satisfied: py4j==0.10.9.7 in /usr/local/lib/python3.11/dist-packages (from pyspark) (0.10.9.7)\n"
          ]
        }
      ]
    },
    {
      "metadata": {
        "trusted": true,
        "id": "pGmoLofebzL5"
      },
      "cell_type": "code",
      "source": [
        "import os\n",
        "import pandas as pd\n",
        "import numpy as np\n",
        "\n",
        "from pyspark import SparkConf, SparkContext\n",
        "from pyspark.sql import SparkSession, SQLContext\n",
        "\n",
        "from pyspark.sql.types import *\n",
        "import pyspark.sql.functions as F\n",
        "from pyspark.sql.functions import udf, col\n",
        "\n",
        "from pyspark.ml.regression import LinearRegression\n",
        "from pyspark.mllib.evaluation import RegressionMetrics\n",
        "\n",
        "from pyspark.ml.tuning import ParamGridBuilder, CrossValidator, CrossValidatorModel\n",
        "from pyspark.ml.feature import VectorAssembler, StandardScaler\n",
        "from pyspark.ml.evaluation import RegressionEvaluator"
      ],
      "execution_count": 4,
      "outputs": []
    },
    {
      "metadata": {
        "trusted": true,
        "id": "4uBhq9srbzL5"
      },
      "cell_type": "code",
      "source": [
        "import seaborn as sns\n",
        "import matplotlib.pyplot as plt"
      ],
      "execution_count": 5,
      "outputs": []
    },
    {
      "metadata": {
        "trusted": true,
        "id": "vuwMM5NzbzL5"
      },
      "cell_type": "code",
      "source": [
        "# Visualization\n",
        "from IPython.core.interactiveshell import InteractiveShell\n",
        "InteractiveShell.ast_node_interactivity = \"all\"\n",
        "\n",
        "pd.set_option('display.max_columns', 200)\n",
        "pd.set_option('display.max_colwidth', 400)\n",
        "\n",
        "from matplotlib import rcParams\n",
        "sns.set(context='notebook', style='whitegrid', rc={'figure.figsize': (18,4)})\n",
        "rcParams['figure.figsize'] = 18,4\n",
        "\n",
        "%matplotlib inline\n",
        "%config InlineBackend.figure_format = 'retina'"
      ],
      "execution_count": 6,
      "outputs": []
    },
    {
      "metadata": {
        "trusted": true,
        "id": "nhfnCSAZbzL5"
      },
      "cell_type": "code",
      "source": [
        "# setting random seed for notebook reproducability\n",
        "rnd_seed=23\n",
        "np.random.seed=rnd_seed\n",
        "np.random.set_state=rnd_seed"
      ],
      "execution_count": 7,
      "outputs": []
    },
    {
      "metadata": {
        "id": "8juuLCAYbzL5"
      },
      "cell_type": "markdown",
      "source": [
        "## 2. Creating the Spark Session"
      ]
    },
    {
      "metadata": {
        "trusted": true,
        "id": "77p5odn8bzL6"
      },
      "cell_type": "code",
      "source": [
        "spark = SparkSession.builder.master(\"local[2]\").appName(\"Linear-Regression-California-Housing\").getOrCreate()"
      ],
      "execution_count": 8,
      "outputs": []
    },
    {
      "metadata": {
        "trusted": true,
        "id": "CTDOkFxMbzL6",
        "outputId": "69f42fd5-d648-4143-f317-4c1d22dbe746",
        "colab": {
          "base_uri": "https://localhost:8080/",
          "height": 221
        }
      },
      "cell_type": "code",
      "source": [
        "spark"
      ],
      "execution_count": 9,
      "outputs": [
        {
          "output_type": "execute_result",
          "data": {
            "text/plain": [
              "<pyspark.sql.session.SparkSession at 0x7e2131fa0050>"
            ],
            "text/html": [
              "\n",
              "            <div>\n",
              "                <p><b>SparkSession - in-memory</b></p>\n",
              "                \n",
              "        <div>\n",
              "            <p><b>SparkContext</b></p>\n",
              "\n",
              "            <p><a href=\"http://c902d0063294:4040\">Spark UI</a></p>\n",
              "\n",
              "            <dl>\n",
              "              <dt>Version</dt>\n",
              "                <dd><code>v3.5.1</code></dd>\n",
              "              <dt>Master</dt>\n",
              "                <dd><code>local[2]</code></dd>\n",
              "              <dt>AppName</dt>\n",
              "                <dd><code>Linear-Regression-California-Housing</code></dd>\n",
              "            </dl>\n",
              "        </div>\n",
              "        \n",
              "            </div>\n",
              "        "
            ]
          },
          "metadata": {},
          "execution_count": 9
        }
      ]
    },
    {
      "metadata": {
        "trusted": true,
        "id": "5eYhC98JbzL6",
        "outputId": "a5723f1b-6249-4c50-ba37-aaf89841199a",
        "colab": {
          "base_uri": "https://localhost:8080/",
          "height": 197
        }
      },
      "cell_type": "code",
      "source": [
        "sc = spark.sparkContext\n",
        "sc"
      ],
      "execution_count": 10,
      "outputs": [
        {
          "output_type": "execute_result",
          "data": {
            "text/plain": [
              "<SparkContext master=local[2] appName=Linear-Regression-California-Housing>"
            ],
            "text/html": [
              "\n",
              "        <div>\n",
              "            <p><b>SparkContext</b></p>\n",
              "\n",
              "            <p><a href=\"http://c902d0063294:4040\">Spark UI</a></p>\n",
              "\n",
              "            <dl>\n",
              "              <dt>Version</dt>\n",
              "                <dd><code>v3.5.1</code></dd>\n",
              "              <dt>Master</dt>\n",
              "                <dd><code>local[2]</code></dd>\n",
              "              <dt>AppName</dt>\n",
              "                <dd><code>Linear-Regression-California-Housing</code></dd>\n",
              "            </dl>\n",
              "        </div>\n",
              "        "
            ]
          },
          "metadata": {},
          "execution_count": 10
        }
      ]
    },
    {
      "metadata": {
        "trusted": true,
        "id": "iT1GqFbubzL6",
        "outputId": "02d0caa9-c65c-44da-8fc1-5c2ff21fd20a",
        "colab": {
          "base_uri": "https://localhost:8080/"
        }
      },
      "cell_type": "code",
      "source": [
        "sqlContext = SQLContext(spark.sparkContext)\n",
        "sqlContext"
      ],
      "execution_count": 11,
      "outputs": [
        {
          "output_type": "stream",
          "name": "stderr",
          "text": [
            "/usr/local/lib/python3.11/dist-packages/pyspark/sql/context.py:113: FutureWarning: Deprecated in 3.0.0. Use SparkSession.builder.getOrCreate() instead.\n",
            "  warnings.warn(\n"
          ]
        },
        {
          "output_type": "execute_result",
          "data": {
            "text/plain": [
              "<pyspark.sql.context.SQLContext at 0x7e21320a4090>"
            ]
          },
          "metadata": {},
          "execution_count": 11
        }
      ]
    },
    {
      "metadata": {
        "id": "HYQobI78bzL6"
      },
      "cell_type": "markdown",
      "source": [
        "## 3. Load The Data From a File Into a Dataframe"
      ]
    },
    {
      "metadata": {
        "trusted": true,
        "id": "qEjyWCMpbzL6"
      },
      "cell_type": "code",
      "source": [
        "HOUSING_DATA = '../input/cal_housing.data'"
      ],
      "execution_count": 12,
      "outputs": []
    },
    {
      "metadata": {
        "id": "2hblP414bzL6"
      },
      "cell_type": "markdown",
      "source": [
        "Specifying the schema when loading data into a DataFrame will give better performance than schema inference."
      ]
    },
    {
      "metadata": {
        "trusted": true,
        "id": "hoJooXnobzL6"
      },
      "cell_type": "code",
      "source": [
        "# define the schema, corresponding to a line in the csv data file.\n",
        "schema = StructType([\n",
        "    StructField(\"long\", FloatType(), nullable=True),\n",
        "    StructField(\"lat\", FloatType(), nullable=True),\n",
        "    StructField(\"medage\", FloatType(), nullable=True),\n",
        "    StructField(\"totrooms\", FloatType(), nullable=True),\n",
        "    StructField(\"totbdrms\", FloatType(), nullable=True),\n",
        "    StructField(\"pop\", FloatType(), nullable=True),\n",
        "    StructField(\"houshlds\", FloatType(), nullable=True),\n",
        "    StructField(\"medinc\", FloatType(), nullable=True),\n",
        "    StructField(\"medhv\", FloatType(), nullable=True)]\n",
        ")"
      ],
      "execution_count": 13,
      "outputs": []
    },
    {
      "metadata": {
        "trusted": true,
        "id": "03fh45bAbzL6"
      },
      "cell_type": "code",
      "source": [
        "# Load housing data\n",
        "housing_df = spark.read.csv(path=HOUSING_DATA, schema=schema).cache()"
      ],
      "execution_count": null,
      "outputs": []
    },
    {
      "metadata": {
        "trusted": true,
        "id": "FEVzjX9-bzL6"
      },
      "cell_type": "code",
      "source": [
        "# Inspect first five rows\n",
        "housing_df.take(5)"
      ],
      "execution_count": null,
      "outputs": []
    },
    {
      "metadata": {
        "trusted": true,
        "id": "tT5XAATebzL6"
      },
      "cell_type": "code",
      "source": [
        "# Show first five rows\n",
        "housing_df.show(5)"
      ],
      "execution_count": null,
      "outputs": []
    },
    {
      "metadata": {
        "trusted": true,
        "id": "MBWjltuubzL6"
      },
      "cell_type": "code",
      "source": [
        "# show the dataframe columns\n",
        "housing_df.columns"
      ],
      "execution_count": null,
      "outputs": []
    },
    {
      "metadata": {
        "trusted": true,
        "id": "wIHKC6k7bzL6"
      },
      "cell_type": "code",
      "source": [
        "# show the schema of the dataframe\n",
        "housing_df.printSchema()"
      ],
      "execution_count": null,
      "outputs": []
    },
    {
      "metadata": {
        "id": "Rhq7-R2xbzL6"
      },
      "cell_type": "markdown",
      "source": [
        "## 4. Data Exploration"
      ]
    },
    {
      "metadata": {
        "trusted": true,
        "id": "SjwBZPBHbzL6"
      },
      "cell_type": "code",
      "source": [
        "# run a sample selection\n",
        "housing_df.select('pop','totbdrms').show(10)"
      ],
      "execution_count": null,
      "outputs": []
    },
    {
      "metadata": {
        "id": "hQ3Pt2UJbzL6"
      },
      "cell_type": "markdown",
      "source": [
        "### 4.1 Distribution of the median age of the people living in the area:"
      ]
    },
    {
      "metadata": {
        "trusted": true,
        "id": "ls0YZnVQbzL6"
      },
      "cell_type": "code",
      "source": [
        "# group by housingmedianage and see the distribution\n",
        "result_df = housing_df.groupBy(\"medage\").count().sort(\"medage\", ascending=False)"
      ],
      "execution_count": null,
      "outputs": []
    },
    {
      "metadata": {
        "trusted": true,
        "id": "jo68FR25bzL6"
      },
      "cell_type": "code",
      "source": [
        "result_df.show(10)"
      ],
      "execution_count": null,
      "outputs": []
    },
    {
      "metadata": {
        "trusted": true,
        "id": "mBEHmQX2bzL6"
      },
      "cell_type": "code",
      "source": [
        "result_df.toPandas().plot.bar(x='medage',figsize=(14, 6))\n"
      ],
      "execution_count": null,
      "outputs": []
    },
    {
      "metadata": {
        "id": "QRWSA1T-bzL6"
      },
      "cell_type": "markdown",
      "source": [
        "Most of the residents are either in their youth or they settle here during their senior years. Some data are showing median age < 10 which seems to be out of place."
      ]
    },
    {
      "metadata": {
        "id": "-JdM2j2pbzL6"
      },
      "cell_type": "markdown",
      "source": [
        "### 4.2 Summary Statistics:\n",
        "\n",
        "Spark DataFrames include some built-in functions for statistical processing. The describe() function performs summary statistics calculations on all numeric columns and returns them as a DataFrame."
      ]
    },
    {
      "metadata": {
        "trusted": true,
        "id": "MJycFLLvbzL6"
      },
      "cell_type": "code",
      "source": [
        "(housing_df.describe().select(\n",
        "                    \"summary\",\n",
        "                    F.round(\"medage\", 4).alias(\"medage\"),\n",
        "                    F.round(\"totrooms\", 4).alias(\"totrooms\"),\n",
        "                    F.round(\"totbdrms\", 4).alias(\"totbdrms\"),\n",
        "                    F.round(\"pop\", 4).alias(\"pop\"),\n",
        "                    F.round(\"houshlds\", 4).alias(\"houshlds\"),\n",
        "                    F.round(\"medinc\", 4).alias(\"medinc\"),\n",
        "                    F.round(\"medhv\", 4).alias(\"medhv\"))\n",
        "                    .show())"
      ],
      "execution_count": null,
      "outputs": []
    },
    {
      "metadata": {
        "id": "0Uk18yZfbzL6"
      },
      "cell_type": "markdown",
      "source": [
        "Look at the minimum and maximum values of all the (numerical) attributes. We see that multiple attributes have a wide range of values: we will need to normalize your dataset."
      ]
    },
    {
      "metadata": {
        "id": "jQGycJZgbzL6"
      },
      "cell_type": "markdown",
      "source": [
        "## 5. Data Preprocessing\n",
        "\n",
        "With all this information that we gathered from our small exploratory data analysis, we know enough to preprocess our data to feed it to the model.\n",
        "\n",
        "+ we shouldn't care about missing values; all zero values have been excluded from the data set.\n",
        "+ We should probably standardize our data, as we have seen that the range of minimum and maximum values is quite big.\n",
        "+ There are possibly some additional attributes that we could add, such as a feature that registers the number of bedrooms per room or the rooms per household.\n",
        "+ Our dependent variable is also quite big; To make our life easier, we'll have to adjust the values slightly."
      ]
    },
    {
      "metadata": {
        "id": "2apXb6G1bzL7"
      },
      "cell_type": "markdown",
      "source": [
        "### 5.1 Preprocessing The Target Values\n",
        "First, let's start with the `medianHouseValue`, our dependent variable. To facilitate our working with the target values, we will express the house values in units of 100,000. That means that a target such as `452600.000000` should become `4.526`:"
      ]
    },
    {
      "metadata": {
        "trusted": true,
        "id": "m8MQhMNNbzL7"
      },
      "cell_type": "code",
      "source": [
        "# Adjust the values of `medianHouseValue`\n",
        "housing_df = housing_df.withColumn(\"medhv\", col(\"medhv\")/100000)"
      ],
      "execution_count": null,
      "outputs": []
    },
    {
      "metadata": {
        "trusted": true,
        "id": "s5qSLS0TbzL7"
      },
      "cell_type": "code",
      "source": [
        "# Show the first 2 lines of `df`\n",
        "housing_df.show(2)"
      ],
      "execution_count": null,
      "outputs": []
    },
    {
      "metadata": {
        "id": "TYsY2nXvbzL7"
      },
      "cell_type": "markdown",
      "source": [
        "We can clearly see that the values have been adjusted correctly when we look at the result of the show() method:"
      ]
    },
    {
      "metadata": {
        "id": "DuyAQvawbzL7"
      },
      "cell_type": "markdown",
      "source": [
        "## 6. Feature Engineering\n",
        "Now that we have adjusted the values in medianHouseValue, we will now add the following columns to the data set:\n",
        "\n",
        "+ Rooms per household which refers to the number of rooms in households per block group;\n",
        "+ Population per household, which basically gives us an indication of how many people live in households per block group; And\n",
        "+ Bedrooms per room which will give us an idea about how many rooms are bedrooms per block group;\n",
        "\n",
        "As we're working with DataFrames, we can best use the `select()` method to select the columns that we're going to be working with, namely `totalRooms`, `households`, and `population`. Additionally, we have to indicate that we're working with columns by adding the `col()` function to our code. Otherwise, we won't be able to do element-wise operations like the division that we have in mind for these three variables:"
      ]
    },
    {
      "metadata": {
        "trusted": true,
        "id": "Lh_DoWrIbzL7"
      },
      "cell_type": "code",
      "source": [
        "housing_df.columns"
      ],
      "execution_count": null,
      "outputs": []
    },
    {
      "metadata": {
        "trusted": true,
        "id": "BVcLsY6gbzL9"
      },
      "cell_type": "code",
      "source": [
        "# Add the new columns to `df`\n",
        "housing_df = (housing_df.withColumn(\"rmsperhh\", F.round(col(\"totrooms\")/col(\"houshlds\"), 2))\n",
        "                       .withColumn(\"popperhh\", F.round(col(\"pop\")/col(\"houshlds\"), 2))\n",
        "                       .withColumn(\"bdrmsperrm\", F.round(col(\"totbdrms\")/col(\"totrooms\"), 2)))"
      ],
      "execution_count": null,
      "outputs": []
    },
    {
      "metadata": {
        "trusted": true,
        "id": "7qW0XLzQbzL9"
      },
      "cell_type": "code",
      "source": [
        "# Inspect the result\n",
        "housing_df.show(5)"
      ],
      "execution_count": null,
      "outputs": []
    },
    {
      "metadata": {
        "id": "jJpjZFqXbzL9"
      },
      "cell_type": "markdown",
      "source": [
        "We can see that, for the first row, there are about 6.98 rooms per household, the households in the block group consist of about 2.5 people and the amount of bedrooms is quite low with 0.14:"
      ]
    },
    {
      "metadata": {
        "id": "lVyb1BWTbzL9"
      },
      "cell_type": "markdown",
      "source": [
        "Since we don't want to necessarily standardize our target values, we'll want to make sure to isolate those in our data set. Note also that this is the time to leave out variables that we might not want to consider in our analysis. In this case, let's leave out variables such as longitude, latitude, housingMedianAge and totalRooms.\n",
        "\n",
        "In this case, we will use the `select()` method and passing the column names in the order that is more appropriate. In this case, the target variable medianHouseValue is put first, so that it won't be affected by the standardization."
      ]
    },
    {
      "metadata": {
        "trusted": true,
        "id": "XqU62nl2bzL9"
      },
      "cell_type": "code",
      "source": [
        "# Re-order and select columns\n",
        "housing_df = housing_df.select(\"medhv\",\n",
        "                              \"totbdrms\",\n",
        "                              \"pop\",\n",
        "                              \"houshlds\",\n",
        "                              \"medinc\",\n",
        "                              \"rmsperhh\",\n",
        "                              \"popperhh\",\n",
        "                              \"bdrmsperrm\")"
      ],
      "execution_count": null,
      "outputs": []
    },
    {
      "metadata": {
        "id": "0eSsmOmcbzL9"
      },
      "cell_type": "markdown",
      "source": [
        "### 6.1 Feature Extraction\n",
        "\n",
        "Now that we have re-ordered the data, we're ready to normalize the data. We will choose the features to be normalized."
      ]
    },
    {
      "metadata": {
        "trusted": true,
        "id": "aYiAy5_6bzL9"
      },
      "cell_type": "code",
      "source": [
        "featureCols = [\"totbdrms\", \"pop\", \"houshlds\", \"medinc\", \"rmsperhh\", \"popperhh\", \"bdrmsperrm\"]"
      ],
      "execution_count": null,
      "outputs": []
    },
    {
      "metadata": {
        "id": "HGgq5xMXbzL9"
      },
      "cell_type": "markdown",
      "source": [
        "**Use a VectorAssembler to put features into a feature vector column:**"
      ]
    },
    {
      "metadata": {
        "trusted": true,
        "id": "fCcT6UIKbzL9"
      },
      "cell_type": "code",
      "source": [
        "# put features into a feature vector column\n",
        "assembler = VectorAssembler(inputCols=featureCols, outputCol=\"features\")"
      ],
      "execution_count": null,
      "outputs": []
    },
    {
      "metadata": {
        "trusted": true,
        "id": "c6o6UfGnbzL-"
      },
      "cell_type": "code",
      "source": [
        "assembled_df = assembler.transform(housing_df)"
      ],
      "execution_count": null,
      "outputs": []
    },
    {
      "metadata": {
        "trusted": true,
        "id": "p7Co5l-_bzL-"
      },
      "cell_type": "code",
      "source": [
        "assembled_df.show(10, truncate=False)"
      ],
      "execution_count": null,
      "outputs": []
    },
    {
      "metadata": {
        "id": "BoYcnH30bzL-"
      },
      "cell_type": "markdown",
      "source": [
        "All the features have transformed into a Dense Vector."
      ]
    },
    {
      "metadata": {
        "id": "zVJuuidUbzL-"
      },
      "cell_type": "markdown",
      "source": [
        "### 6.2 Standardization\n",
        "\n",
        "Next, we can finally scale the data using `StandardScaler`. The input columns are the `features`, and the output column with the rescaled that will be included in the scaled_df will be named `\"features_scaled\"`:"
      ]
    },
    {
      "metadata": {
        "trusted": true,
        "id": "QP8k_OG2bzL-"
      },
      "cell_type": "code",
      "source": [
        "# Initialize the `standardScaler`\n",
        "standardScaler = StandardScaler(inputCol=\"features\", outputCol=\"features_scaled\")"
      ],
      "execution_count": null,
      "outputs": []
    },
    {
      "metadata": {
        "trusted": true,
        "id": "M4mU900RbzL-"
      },
      "cell_type": "code",
      "source": [
        "# Fit the DataFrame to the scaler\n",
        "scaled_df = standardScaler.fit(assembled_df).transform(assembled_df)"
      ],
      "execution_count": null,
      "outputs": []
    },
    {
      "metadata": {
        "trusted": true,
        "id": "erJtDzgdbzL-"
      },
      "cell_type": "code",
      "source": [
        "# Inspect the result\n",
        "scaled_df.select(\"features\", \"features_scaled\").show(10, truncate=False)"
      ],
      "execution_count": null,
      "outputs": []
    },
    {
      "metadata": {
        "id": "ep8eBHvcbzL-"
      },
      "cell_type": "markdown",
      "source": [
        "### 7. Building A Machine Learning Model With Spark ML\n",
        "\n",
        "With all the preprocessing done, it's finally time to start building our Linear Regression model! Just like always, we first need to split the data into training and test sets. Luckily, this is no issue with the `randomSplit()` method:"
      ]
    },
    {
      "metadata": {
        "trusted": true,
        "id": "2UtsVNoSbzL-"
      },
      "cell_type": "code",
      "source": [
        "# Split the data into train and test sets\n",
        "train_data, test_data = scaled_df.randomSplit([.8,.2], seed=rnd_seed)"
      ],
      "execution_count": null,
      "outputs": []
    },
    {
      "metadata": {
        "id": "eGYpifj4bzL-"
      },
      "cell_type": "markdown",
      "source": [
        "We pass in a list with two numbers that represent the size that we want your training and test sets to have and a seed, which is needed for reproducibility reasons.\n",
        "\n",
        "**Note** that the argument `elasticNetParam` corresponds to $\\alpha$ or the vertical intercept and that the `regParam` or the regularization paramater corresponds to $\\lambda$."
      ]
    },
    {
      "metadata": {
        "trusted": true,
        "id": "iTriwOxCbzL-"
      },
      "cell_type": "code",
      "source": [
        "train_data.columns"
      ],
      "execution_count": null,
      "outputs": []
    },
    {
      "metadata": {
        "id": "MGucyiInbzL-"
      },
      "cell_type": "markdown",
      "source": [
        "**Create an ElasticNet model:**\n",
        "\n",
        "ElasticNet is a linear regression model trained with L1 and L2 prior as regularizer. This combination allows for learning a sparse model where few of the weights are non-zero like Lasso, while still maintaining the regularization properties of Ridge. We control the convex combination of L1 and L2 using the l1_ratio parameter.\n",
        "\n",
        "Elastic-net is useful when there are multiple features which are correlated with one another. Lasso is likely to pick one of these at random, while elastic-net is likely to pick both.\n",
        "\n",
        "A practical advantage of trading-off between Lasso and Ridge is it allows Elastic-Net to inherit some of Ridge’s stability under rotation.\n",
        "\n",
        "The objective function to minimize is in this case:\n",
        "\\begin{align}\n",
        "min_w\\frac{1}{2n_{samples}}{\\parallel{X_w - y}\\parallel}^2_2 + \\alpha\\lambda{\\parallel{X_w - y}\\parallel}_1 + \\frac{\\alpha(1-\\lambda)}{2}{\\parallel{w}\\parallel}^2_2\n",
        "\\end{align}\n",
        "\n",
        "http://scikit-learn.org/stable/modules/linear_model.html#elastic-net"
      ]
    },
    {
      "metadata": {
        "trusted": true,
        "id": "69MVaXipbzL-"
      },
      "cell_type": "code",
      "source": [
        "# Initialize `lr`\n",
        "lr = (LinearRegression(featuresCol='features_scaled', labelCol=\"medhv\", predictionCol='predmedhv',\n",
        "                               maxIter=10, regParam=0.3, elasticNetParam=0.8, standardization=False))"
      ],
      "execution_count": null,
      "outputs": []
    },
    {
      "metadata": {
        "trusted": true,
        "id": "EykfUCicbzL-"
      },
      "cell_type": "code",
      "source": [
        "# Fit the data to the model\n",
        "linearModel = lr.fit(train_data)"
      ],
      "execution_count": null,
      "outputs": []
    },
    {
      "metadata": {
        "id": "PXKK3wQ_bzL-"
      },
      "cell_type": "markdown",
      "source": [
        "## 8. Evaluating the Model\n",
        "\n",
        "With our model in place, we can generate predictions for our test data: use the `transform()` method to predict the labels for our `test_data`. Then, we can use RDD operations to extract the predictions as well as the true labels from the DataFrame."
      ]
    },
    {
      "metadata": {
        "id": "HrgTteW-bzL-"
      },
      "cell_type": "markdown",
      "source": [
        "### 8.1 Inspect the Model Co-efficients"
      ]
    },
    {
      "metadata": {
        "trusted": true,
        "id": "Kz6fwDLfbzL-"
      },
      "cell_type": "code",
      "source": [
        "# Coefficients for the model\n",
        "linearModel.coefficients"
      ],
      "execution_count": null,
      "outputs": []
    },
    {
      "metadata": {
        "trusted": true,
        "id": "ZU5bZxCnbzL-"
      },
      "cell_type": "code",
      "source": [
        "featureCols"
      ],
      "execution_count": null,
      "outputs": []
    },
    {
      "metadata": {
        "trusted": true,
        "id": "uvG1EON6bzL-"
      },
      "cell_type": "code",
      "source": [
        "# Intercept for the model\n",
        "linearModel.intercept"
      ],
      "execution_count": null,
      "outputs": []
    },
    {
      "metadata": {
        "trusted": true,
        "id": "wiJIVi1VbzL-"
      },
      "cell_type": "code",
      "source": [
        "coeff_df = pd.DataFrame({\"Feature\": [\"Intercept\"] + featureCols, \"Co-efficients\": np.insert(linearModel.coefficients.toArray(), 0, linearModel.intercept)})\n",
        "coeff_df = coeff_df[[\"Feature\", \"Co-efficients\"]]"
      ],
      "execution_count": null,
      "outputs": []
    },
    {
      "metadata": {
        "trusted": true,
        "id": "CHoCUvDUbzL-"
      },
      "cell_type": "code",
      "source": [
        "coeff_df"
      ],
      "execution_count": null,
      "outputs": []
    },
    {
      "metadata": {
        "id": "6KQIyHrPbzL-"
      },
      "cell_type": "markdown",
      "source": [
        "### 8.2 Generating Predictions"
      ]
    },
    {
      "metadata": {
        "trusted": true,
        "id": "3LgyJD2DbzL-"
      },
      "cell_type": "code",
      "source": [
        "# Generate predictions\n",
        "predictions = linearModel.transform(test_data)"
      ],
      "execution_count": null,
      "outputs": []
    },
    {
      "metadata": {
        "trusted": true,
        "id": "ogo82AlebzL-"
      },
      "cell_type": "code",
      "source": [
        "# Extract the predictions and the \"known\" correct labels\n",
        "predandlabels = predictions.select(\"predmedhv\", \"medhv\")"
      ],
      "execution_count": null,
      "outputs": []
    },
    {
      "metadata": {
        "trusted": true,
        "id": "SahB1NiLbzL-"
      },
      "cell_type": "code",
      "source": [
        "predandlabels.show()"
      ],
      "execution_count": null,
      "outputs": []
    },
    {
      "metadata": {
        "id": "D4HW4KkEbzL-"
      },
      "cell_type": "markdown",
      "source": [
        "### 8.3 Inspect the Metrics\n",
        "\n",
        "Looking at predicted values is one thing, but another and better thing is looking at some metrics to get a better idea of how good your model actually is.\n",
        "\n",
        "**Using the `LinearRegressionModel.summary` attribute:**\n",
        "\n",
        "Next, we can also use the `summary` attribute to pull up the `rootMeanSquaredError` and the `r2`."
      ]
    },
    {
      "metadata": {
        "trusted": true,
        "id": "wTnV97HpbzL-"
      },
      "cell_type": "code",
      "source": [
        "# Get the RMSE\n",
        "print(\"RMSE: {0}\".format(linearModel.summary.rootMeanSquaredError))"
      ],
      "execution_count": null,
      "outputs": []
    },
    {
      "metadata": {
        "trusted": true,
        "id": "Vcm2Hm0vbzL-"
      },
      "cell_type": "code",
      "source": [
        "print(\"MAE: {0}\".format(linearModel.summary.meanAbsoluteError))"
      ],
      "execution_count": null,
      "outputs": []
    },
    {
      "metadata": {
        "trusted": true,
        "id": "RIEb26vMbzL-"
      },
      "cell_type": "code",
      "source": [
        "# Get the R2\n",
        "print(\"R2: {0}\".format(linearModel.summary.r2))"
      ],
      "execution_count": null,
      "outputs": []
    },
    {
      "metadata": {
        "id": "vmcw8ZxGbzL_"
      },
      "cell_type": "markdown",
      "source": [
        "+ The RMSE measures how much error there is between two datasets comparing a predicted value and an observed or known value. The smaller an RMSE value, the closer predicted and observed values are.\n",
        "\n",
        "+ The R2 (\"R squared\") or the coefficient of determination is a measure that shows how close the data are to the fitted regression line. This score will always be between 0 and a 100% (or 0 to 1 in this case), where 0% indicates that the model explains none of the variability of the response data around its mean, and 100% indicates the opposite: it explains all the variability. That means that, in general, the higher the R-squared, the better the model fits our data."
      ]
    },
    {
      "metadata": {
        "id": "gb9SohlKbzL_"
      },
      "cell_type": "markdown",
      "source": [
        "**Using the RegressionEvaluator from pyspark.ml package:**"
      ]
    },
    {
      "metadata": {
        "trusted": true,
        "id": "QuS0ImFcbzL_"
      },
      "cell_type": "code",
      "source": [
        "evaluator = RegressionEvaluator(predictionCol=\"predmedhv\", labelCol='medhv', metricName='rmse')\n",
        "print(\"RMSE: {0}\".format(evaluator.evaluate(predandlabels)))"
      ],
      "execution_count": null,
      "outputs": []
    },
    {
      "metadata": {
        "trusted": true,
        "id": "8E5JWbprbzL_"
      },
      "cell_type": "code",
      "source": [
        "evaluator = RegressionEvaluator(predictionCol=\"predmedhv\", labelCol='medhv', metricName='mae')\n",
        "print(\"MAE: {0}\".format(evaluator.evaluate(predandlabels)))"
      ],
      "execution_count": null,
      "outputs": []
    },
    {
      "metadata": {
        "trusted": true,
        "id": "j_VixTrabzL_"
      },
      "cell_type": "code",
      "source": [
        "evaluator = RegressionEvaluator(predictionCol=\"predmedhv\", labelCol='medhv', metricName='r2')\n",
        "print(\"R2: {0}\".format(evaluator.evaluate(predandlabels)))"
      ],
      "execution_count": null,
      "outputs": []
    },
    {
      "metadata": {
        "id": "L-8VltEVbzL_"
      },
      "cell_type": "markdown",
      "source": [
        "**Using the RegressionMetrics from pyspark.mllib package:**"
      ]
    },
    {
      "metadata": {
        "trusted": true,
        "id": "5BkDmcdKbzL_"
      },
      "cell_type": "code",
      "source": [
        "# mllib is old so the methods are available in rdd\n",
        "metrics = RegressionMetrics(predandlabels.rdd)"
      ],
      "execution_count": null,
      "outputs": []
    },
    {
      "metadata": {
        "trusted": true,
        "id": "fE7dg_vAbzL_"
      },
      "cell_type": "code",
      "source": [
        "print(\"RMSE: {0}\".format(metrics.rootMeanSquaredError))"
      ],
      "execution_count": null,
      "outputs": []
    },
    {
      "metadata": {
        "trusted": true,
        "id": "NfdY-qcxbzL_"
      },
      "cell_type": "code",
      "source": [
        "print(\"MAE: {0}\".format(metrics.meanAbsoluteError))"
      ],
      "execution_count": null,
      "outputs": []
    },
    {
      "metadata": {
        "trusted": true,
        "id": "9O3ZBL8ZbzL_"
      },
      "cell_type": "code",
      "source": [
        "print(\"R2: {0}\".format(metrics.r2))"
      ],
      "execution_count": null,
      "outputs": []
    },
    {
      "metadata": {
        "id": "BH93fYMJbzL_"
      },
      "cell_type": "markdown",
      "source": [
        "There's definitely some improvements needed to our model! If we want to continue with this model, we can play around with the parameters that we passed to your model, the variables that we included in your original DataFrame."
      ]
    },
    {
      "metadata": {
        "trusted": true,
        "id": "Z9FCfD6bbzL_"
      },
      "cell_type": "code",
      "source": [
        "spark.stop()"
      ],
      "execution_count": null,
      "outputs": []
    }
  ],
  "metadata": {
    "kernelspec": {
      "display_name": "Python 3",
      "language": "python",
      "name": "python3"
    },
    "language_info": {
      "codemirror_mode": {
        "name": "ipython",
        "version": 3
      },
      "file_extension": ".py",
      "mimetype": "text/x-python",
      "name": "python",
      "nbconvert_exporter": "python",
      "pygments_lexer": "ipython3",
      "version": "3.5.3"
    },
    "colab": {
      "name": "Pyspark ML tutorial for beginners ",
      "provenance": []
    }
  },
  "nbformat": 4,
  "nbformat_minor": 0
}